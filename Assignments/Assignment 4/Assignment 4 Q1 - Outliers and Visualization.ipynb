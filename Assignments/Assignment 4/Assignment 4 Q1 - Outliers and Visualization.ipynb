{
 "cells": [
  {
   "cell_type": "markdown",
   "metadata": {},
   "source": [
    "### Q1) Outlier Detection (20 Marks)\n",
    "\n",
    "Outlier detection (also known as 'anomaly detection') is the process of finding observation points that deviate from other observations. Such observation points are called outliers or anomalies. In this question, you will employ simple visualization and statistical techniques to find the outliers and then, you will apply outlier detection algorithms.\n",
    "\n",
    "You will be using forestfires.csv dataset.\n",
    "\n",
    "<strong>Note: You are required to submit the html files of both Q1 and Q2. Format should be q1_firsname_lastname_rollno.html</strong>"
   ]
  },
  {
   "cell_type": "code",
   "execution_count": 200,
   "metadata": {},
   "outputs": [],
   "source": [
    "import seaborn as sns\n",
    "import numpy as np\n",
    "import pandas as pd\n",
    "import matplotlib.pyplot as plt\n",
    "from scipy.cluster.vq import kmeans\n",
    "from sklearn.neighbors import LocalOutlierFactor\n",
    "from matplotlib import cm\n"
   ]
  },
  {
   "cell_type": "markdown",
   "metadata": {},
   "source": [
    "### Loading the dataset"
   ]
  },
  {
   "cell_type": "code",
   "execution_count": 201,
   "metadata": {},
   "outputs": [
    {
     "data": {
      "text/html": [
       "<div>\n",
       "<style scoped>\n",
       "    .dataframe tbody tr th:only-of-type {\n",
       "        vertical-align: middle;\n",
       "    }\n",
       "\n",
       "    .dataframe tbody tr th {\n",
       "        vertical-align: top;\n",
       "    }\n",
       "\n",
       "    .dataframe thead th {\n",
       "        text-align: right;\n",
       "    }\n",
       "</style>\n",
       "<table border=\"1\" class=\"dataframe\">\n",
       "  <thead>\n",
       "    <tr style=\"text-align: right;\">\n",
       "      <th></th>\n",
       "      <th>month</th>\n",
       "      <th>day</th>\n",
       "      <th>FFMC</th>\n",
       "      <th>DMC</th>\n",
       "      <th>DC</th>\n",
       "      <th>ISI</th>\n",
       "      <th>temp</th>\n",
       "      <th>RH</th>\n",
       "      <th>wind</th>\n",
       "      <th>rain</th>\n",
       "      <th>area</th>\n",
       "    </tr>\n",
       "  </thead>\n",
       "  <tbody>\n",
       "    <tr>\n",
       "      <th>0</th>\n",
       "      <td>mar</td>\n",
       "      <td>fri</td>\n",
       "      <td>86.2</td>\n",
       "      <td>26.2</td>\n",
       "      <td>4.3</td>\n",
       "      <td>5.1</td>\n",
       "      <td>8.2</td>\n",
       "      <td>51</td>\n",
       "      <td>6.7</td>\n",
       "      <td>0.0</td>\n",
       "      <td>0.0</td>\n",
       "    </tr>\n",
       "    <tr>\n",
       "      <th>1</th>\n",
       "      <td>oct</td>\n",
       "      <td>tue</td>\n",
       "      <td>90.6</td>\n",
       "      <td>35.4</td>\n",
       "      <td>669.1</td>\n",
       "      <td>6.7</td>\n",
       "      <td>18.0</td>\n",
       "      <td>33</td>\n",
       "      <td>0.9</td>\n",
       "      <td>0.0</td>\n",
       "      <td>0.0</td>\n",
       "    </tr>\n",
       "    <tr>\n",
       "      <th>2</th>\n",
       "      <td>oct</td>\n",
       "      <td>sat</td>\n",
       "      <td>90.6</td>\n",
       "      <td>43.7</td>\n",
       "      <td>686.9</td>\n",
       "      <td>6.7</td>\n",
       "      <td>14.6</td>\n",
       "      <td>33</td>\n",
       "      <td>1.3</td>\n",
       "      <td>0.0</td>\n",
       "      <td>0.0</td>\n",
       "    </tr>\n",
       "    <tr>\n",
       "      <th>3</th>\n",
       "      <td>mar</td>\n",
       "      <td>fri</td>\n",
       "      <td>91.7</td>\n",
       "      <td>33.3</td>\n",
       "      <td>77.5</td>\n",
       "      <td>9.0</td>\n",
       "      <td>8.3</td>\n",
       "      <td>97</td>\n",
       "      <td>0.4</td>\n",
       "      <td>0.2</td>\n",
       "      <td>0.0</td>\n",
       "    </tr>\n",
       "    <tr>\n",
       "      <th>4</th>\n",
       "      <td>mar</td>\n",
       "      <td>sun</td>\n",
       "      <td>89.3</td>\n",
       "      <td>51.3</td>\n",
       "      <td>102.2</td>\n",
       "      <td>9.6</td>\n",
       "      <td>11.4</td>\n",
       "      <td>99</td>\n",
       "      <td>1.8</td>\n",
       "      <td>0.0</td>\n",
       "      <td>0.0</td>\n",
       "    </tr>\n",
       "  </tbody>\n",
       "</table>\n",
       "</div>"
      ],
      "text/plain": [
       "  month  day  FFMC   DMC     DC  ISI  temp  RH  wind  rain  area\n",
       "0   mar  fri  86.2  26.2    4.3  5.1   8.2  51   6.7   0.0   0.0\n",
       "1   oct  tue  90.6  35.4  669.1  6.7  18.0  33   0.9   0.0   0.0\n",
       "2   oct  sat  90.6  43.7  686.9  6.7  14.6  33   1.3   0.0   0.0\n",
       "3   mar  fri  91.7  33.3   77.5  9.0   8.3  97   0.4   0.2   0.0\n",
       "4   mar  sun  89.3  51.3  102.2  9.6  11.4  99   1.8   0.0   0.0"
      ]
     },
     "execution_count": 201,
     "metadata": {},
     "output_type": "execute_result"
    }
   ],
   "source": [
    "#loading the dataset\n",
    "data_df = pd.read_csv(\"forestfires.csv\")\n",
    "data_df.head()"
   ]
  },
  {
   "cell_type": "code",
   "execution_count": 202,
   "metadata": {},
   "outputs": [
    {
     "data": {
      "text/html": [
       "<div>\n",
       "<style scoped>\n",
       "    .dataframe tbody tr th:only-of-type {\n",
       "        vertical-align: middle;\n",
       "    }\n",
       "\n",
       "    .dataframe tbody tr th {\n",
       "        vertical-align: top;\n",
       "    }\n",
       "\n",
       "    .dataframe thead th {\n",
       "        text-align: right;\n",
       "    }\n",
       "</style>\n",
       "<table border=\"1\" class=\"dataframe\">\n",
       "  <thead>\n",
       "    <tr style=\"text-align: right;\">\n",
       "      <th></th>\n",
       "      <th>FFMC</th>\n",
       "      <th>DMC</th>\n",
       "      <th>DC</th>\n",
       "      <th>ISI</th>\n",
       "      <th>temp</th>\n",
       "      <th>RH</th>\n",
       "      <th>wind</th>\n",
       "      <th>rain</th>\n",
       "      <th>area</th>\n",
       "    </tr>\n",
       "  </thead>\n",
       "  <tbody>\n",
       "    <tr>\n",
       "      <th>count</th>\n",
       "      <td>517.000000</td>\n",
       "      <td>517.000000</td>\n",
       "      <td>517.000000</td>\n",
       "      <td>517.000000</td>\n",
       "      <td>517.000000</td>\n",
       "      <td>517.000000</td>\n",
       "      <td>517.000000</td>\n",
       "      <td>517.000000</td>\n",
       "      <td>517.000000</td>\n",
       "    </tr>\n",
       "    <tr>\n",
       "      <th>mean</th>\n",
       "      <td>90.644681</td>\n",
       "      <td>110.872340</td>\n",
       "      <td>564.667311</td>\n",
       "      <td>9.020309</td>\n",
       "      <td>18.842747</td>\n",
       "      <td>44.288201</td>\n",
       "      <td>4.003288</td>\n",
       "      <td>0.021663</td>\n",
       "      <td>63.832012</td>\n",
       "    </tr>\n",
       "    <tr>\n",
       "      <th>std</th>\n",
       "      <td>5.520111</td>\n",
       "      <td>64.046482</td>\n",
       "      <td>319.171762</td>\n",
       "      <td>4.562027</td>\n",
       "      <td>6.139730</td>\n",
       "      <td>16.317469</td>\n",
       "      <td>1.806494</td>\n",
       "      <td>0.295959</td>\n",
       "      <td>317.677769</td>\n",
       "    </tr>\n",
       "    <tr>\n",
       "      <th>min</th>\n",
       "      <td>18.700000</td>\n",
       "      <td>1.100000</td>\n",
       "      <td>4.300000</td>\n",
       "      <td>0.000000</td>\n",
       "      <td>2.000000</td>\n",
       "      <td>15.000000</td>\n",
       "      <td>0.200000</td>\n",
       "      <td>0.000000</td>\n",
       "      <td>0.000000</td>\n",
       "    </tr>\n",
       "    <tr>\n",
       "      <th>25%</th>\n",
       "      <td>90.200000</td>\n",
       "      <td>68.600000</td>\n",
       "      <td>431.600000</td>\n",
       "      <td>6.500000</td>\n",
       "      <td>15.400000</td>\n",
       "      <td>33.000000</td>\n",
       "      <td>2.700000</td>\n",
       "      <td>0.000000</td>\n",
       "      <td>0.000000</td>\n",
       "    </tr>\n",
       "    <tr>\n",
       "      <th>50%</th>\n",
       "      <td>91.600000</td>\n",
       "      <td>108.300000</td>\n",
       "      <td>664.200000</td>\n",
       "      <td>8.400000</td>\n",
       "      <td>19.200000</td>\n",
       "      <td>42.000000</td>\n",
       "      <td>4.000000</td>\n",
       "      <td>0.000000</td>\n",
       "      <td>0.760000</td>\n",
       "    </tr>\n",
       "    <tr>\n",
       "      <th>75%</th>\n",
       "      <td>92.900000</td>\n",
       "      <td>142.400000</td>\n",
       "      <td>714.300000</td>\n",
       "      <td>10.800000</td>\n",
       "      <td>22.800000</td>\n",
       "      <td>53.000000</td>\n",
       "      <td>4.900000</td>\n",
       "      <td>0.000000</td>\n",
       "      <td>7.360000</td>\n",
       "    </tr>\n",
       "    <tr>\n",
       "      <th>max</th>\n",
       "      <td>96.200000</td>\n",
       "      <td>291.300000</td>\n",
       "      <td>3601.400000</td>\n",
       "      <td>56.100000</td>\n",
       "      <td>38.100000</td>\n",
       "      <td>100.000000</td>\n",
       "      <td>9.400000</td>\n",
       "      <td>6.400000</td>\n",
       "      <td>4328.400000</td>\n",
       "    </tr>\n",
       "  </tbody>\n",
       "</table>\n",
       "</div>"
      ],
      "text/plain": [
       "             FFMC         DMC           DC         ISI        temp  \\\n",
       "count  517.000000  517.000000   517.000000  517.000000  517.000000   \n",
       "mean    90.644681  110.872340   564.667311    9.020309   18.842747   \n",
       "std      5.520111   64.046482   319.171762    4.562027    6.139730   \n",
       "min     18.700000    1.100000     4.300000    0.000000    2.000000   \n",
       "25%     90.200000   68.600000   431.600000    6.500000   15.400000   \n",
       "50%     91.600000  108.300000   664.200000    8.400000   19.200000   \n",
       "75%     92.900000  142.400000   714.300000   10.800000   22.800000   \n",
       "max     96.200000  291.300000  3601.400000   56.100000   38.100000   \n",
       "\n",
       "               RH        wind        rain         area  \n",
       "count  517.000000  517.000000  517.000000   517.000000  \n",
       "mean    44.288201    4.003288    0.021663    63.832012  \n",
       "std     16.317469    1.806494    0.295959   317.677769  \n",
       "min     15.000000    0.200000    0.000000     0.000000  \n",
       "25%     33.000000    2.700000    0.000000     0.000000  \n",
       "50%     42.000000    4.000000    0.000000     0.760000  \n",
       "75%     53.000000    4.900000    0.000000     7.360000  \n",
       "max    100.000000    9.400000    6.400000  4328.400000  "
      ]
     },
     "execution_count": 202,
     "metadata": {},
     "output_type": "execute_result"
    }
   ],
   "source": [
    "data = data_df.copy()\n",
    "data = data.dropna()\n",
    "data.describe()"
   ]
  },
  {
   "cell_type": "markdown",
   "metadata": {},
   "source": [
    "### Outlier Visualization"
   ]
  },
  {
   "cell_type": "markdown",
   "metadata": {},
   "source": [
    "### **Box-Plots**"
   ]
  },
  {
   "cell_type": "markdown",
   "metadata": {},
   "source": [
    "Plot box-plots for \"**FFMC**\" "
   ]
  },
  {
   "cell_type": "code",
   "execution_count": 203,
   "metadata": {},
   "outputs": [
    {
     "data": {
      "image/png": "[encoded data removed]",
      "text/plain": [
       "<Figure size 1080x288 with 1 Axes>"
      ]
     },
     "metadata": {},
     "output_type": "display_data"
    }
   ],
   "source": [
    "sns.set(rc = {'figure.figsize':(15,4)})\n",
    "boxplot = sns.boxplot(x = data[\"FFMC\"])"
   ]
  },
  {
   "cell_type": "markdown",
   "metadata": {},
   "source": [
    "Plot box-plots for \"**Day Vs Temp**\" and \"**Month Vs Temp**\" and comment on your results.  "
   ]
  },
  {
   "cell_type": "code",
   "execution_count": 204,
   "metadata": {},
   "outputs": [
    {
     "data": {
      "image/png": "[encoded data removed]",
      "text/plain": [
       "<Figure size 1080x864 with 1 Axes>"
      ]
     },
     "metadata": {},
     "output_type": "display_data"
    }
   ],
   "source": [
    "sns.set(rc = {'figure.figsize':(15,12)})\n",
    "b1 = sns.boxplot(x = \"day\", y = \"temp\", data = data)"
   ]
  },
  {
   "cell_type": "code",
   "execution_count": 205,
   "metadata": {},
   "outputs": [
    {
     "data": {
      "image/png": "[encoded data removed]",
      "text/plain": [
       "<Figure size 1080x864 with 1 Axes>"
      ]
     },
     "metadata": {},
     "output_type": "display_data"
    }
   ],
   "source": [
    "b2 = sns.boxplot(x = \"month\", y = \"temp\", data = data)"
   ]
  },
  {
   "cell_type": "markdown",
   "metadata": {},
   "source": [
    "In the Days vs Temp plot, on all days the majority of temperatures across all days is from 15 - 25 which there being a slight dip by a few degrees on Mondays. However, we can attribute this to randomness as we know there isnt much temperature differences across days in a week. So on a high level we can consider values below 5 and above 32 to be outliers as this is the general trend across days. \n",
    "For the Months vs Temp plot, differences are more apparent since temperatures do vary significantly across months. Here to find outliers, we should study each month's boxplot separately as each have very different distributions and spreads."
   ]
  },
  {
   "cell_type": "markdown",
   "metadata": {},
   "source": [
    "### **Scatter-plot**"
   ]
  },
  {
   "cell_type": "markdown",
   "metadata": {},
   "source": [
    "Plot scatter-plot for \"**DC Vs Area**\". Comment if it shows any outliers. Use matplotlib.pyplot library for scatter-plot."
   ]
  },
  {
   "cell_type": "code",
   "execution_count": 206,
   "metadata": {},
   "outputs": [
    {
     "data": {
      "text/plain": [
       "<matplotlib.axes._subplots.AxesSubplot at 0x23a2c67b6a0>"
      ]
     },
     "execution_count": 206,
     "metadata": {},
     "output_type": "execute_result"
    },
    {
     "data": {
      "image/png": "[encoded data removed]",
      "text/plain": [
       "<Figure size 432x432 with 1 Axes>"
      ]
     },
     "metadata": {},
     "output_type": "display_data"
    }
   ],
   "source": [
    "#Write code here\n",
    "sns.set(rc = {'figure.figsize':(6,6)})\n",
    "sns.scatterplot(data = data, x = \"DC\", y = \"area\")"
   ]
  },
  {
   "cell_type": "markdown",
   "metadata": {},
   "source": [
    "### Outlier Detection "
   ]
  },
  {
   "cell_type": "markdown",
   "metadata": {},
   "source": [
    "### **Standard Deviation**"
   ]
  },
  {
   "cell_type": "markdown",
   "metadata": {},
   "source": [
    "If certain point is some standard deviation(threshold) away from the mean it can be identified as outlier. For **Area and Temp**, output the list of values that are identified as outliers using optimal value of threshold."
   ]
  },
  {
   "cell_type": "code",
   "execution_count": 207,
   "metadata": {},
   "outputs": [
    {
     "name": "stdout",
     "output_type": "stream",
     "text": [
      "Area mean: 63.83201160541585\n",
      "Area outliers\n",
      "[1314.0, 4328.4, 1392.4, 2000.0, 1609.4, 2137.0, 1090.84, 1224.24, 1786.45, 1463.52, 1545.18, 1622.18, 1156.04, 1290.03, 1174.63]\n",
      "Temp mean: 18.842746615087037\n",
      "Temp outliers\n",
      "[38.1, 37.3]\n"
     ]
    }
   ],
   "source": [
    "from numpy import mean, median\n",
    "from numpy import std\n",
    "from numpy import percentile\n",
    "area_std = std(data['area'])\n",
    "area_mean = mean(data['area'])\n",
    "temp_std = std(data['temp'])\n",
    "temp_mean = mean(data['temp'])\n",
    "\n",
    "area_threshold = area_std * 3\n",
    "area_lower, area_upper = area_mean - area_threshold, area_mean + area_threshold\n",
    "\n",
    "temp_threshold = temp_std * 3\n",
    "temp_lower, temp_upper = temp_mean - temp_threshold, temp_mean + temp_threshold\n",
    "\n",
    "area_outliers = [i for i in data['area'] if i < area_lower or i > area_upper]\n",
    "temp_outliers = [i for i in data['temp'] if i < temp_lower or i > temp_upper]\n",
    "\n",
    "print(\"Area mean:\", area_mean)\n",
    "print(\"Area outliers\")\n",
    "print(area_outliers)\n",
    "\n",
    "print(\"Temp mean:\", temp_mean)\n",
    "print(\"Temp outliers\")\n",
    "print(temp_outliers)"
   ]
  },
  {
   "cell_type": "markdown",
   "metadata": {},
   "source": [
    "* **What standard deviation threshold did you use to detect the outliers and why?**"
   ]
  },
  {
   "cell_type": "markdown",
   "metadata": {},
   "source": [
    "I used a standard deviation threshold of 3 which would cover 99.7% which results in a decent number of outliers for both columns. I initially thought of using a threshold of 2 which would cover 95% of the data from mean since our dataset is reasonably small with only 517 rows, but this resulted in temperature outliers jumping from 2 to 35 and this would remove a valid set of values. "
   ]
  },
  {
   "cell_type": "markdown",
   "metadata": {},
   "source": [
    "### ***IQR***"
   ]
  },
  {
   "cell_type": "markdown",
   "metadata": {},
   "source": [
    "For **Area and Temp**, output the list of values that are identified as outliers on the basis of their IQR values."
   ]
  },
  {
   "cell_type": "markdown",
   "metadata": {},
   "source": [
    "For this, calculate the first (q1) and third quartile (q3). An outlier is then a data point  that lies outside the interquartile range. That is:\n",
    "*   *Lower outlier= Q1 - (k x IQR)*\n",
    "*   *Higher outlier= Q3 + (k x IQR)*\n",
    "\n",
    "Choose an appropriate 'k' for this part."
   ]
  },
  {
   "cell_type": "code",
   "execution_count": 208,
   "metadata": {},
   "outputs": [
    {
     "name": "stdout",
     "output_type": "stream",
     "text": [
      "IQR: 7.36\n",
      "Q1: 0.0\n",
      "Q2: 0.76\n",
      "Q3: 7.36\n",
      "Area mean: 63.83201160541585\n",
      "Area std: 317.3703883559983\n",
      "Area outliers\n",
      "[1314.0, 942.4, 4328.4, 1392.4, 779.5, 866.0, 2000.0, 1609.4, 2137.0, 58.3, 64.1, 71.3, 88.49, 95.18, 103.39, 105.66, 154.88, 196.48, 200.94, 212.88, 1090.84, 1224.24, 1786.45, 1463.52, 1545.18, 1622.18, 111.22, 1156.04, 1290.03, 1174.63, 70.76, 51.78, 746.28, 185.76, 82.75, 61.13, 70.32, 278.53, 54.29]\n",
      "Temp mean: 18.842746615087037\n",
      "IQR: 7.4\n",
      "Q1: 15.4\n",
      "Q2: 19.2\n",
      "Q3: 22.8\n",
      "Temp std: 6.13378967863067\n",
      "Temp outliers\n",
      "[2.0, 38.1, 2.2, 4.2, 2.7, 37.3, 35.9, 2.6, 3.8]\n"
     ]
    }
   ],
   "source": [
    "k = 6\n",
    "\n",
    "area_q1, area_q3 = percentile(data['area'], 25), percentile(data['area'], 75)\n",
    "area_iqr = area_q3 - area_q1\n",
    "area_threshold = area_iqr * k\n",
    "area_lower, area_upper = area_q1 - area_threshold, area_q3 + area_threshold\n",
    "area_outliers = [x for x in data['area'] if x < area_lower or x > area_upper]\n",
    "print(\"IQR:\", area_iqr)\n",
    "print(\"Q1:\", area_q1)\n",
    "print(\"Q2:\", median(data['area']))\n",
    "print(\"Q3:\", area_q3)\n",
    "print(\"Area mean:\", area_mean)\n",
    "print(\"Area std:\", area_std)\n",
    "print(\"Area outliers\")\n",
    "# print(len(area_outliers))\n",
    "print(area_outliers)\n",
    "\n",
    "k = 1.5\n",
    "temp_q1, temp_q3 = percentile(data['temp'], 25), percentile(data['temp'], 75)\n",
    "temp_iqr = temp_q3 - temp_q1\n",
    "temp_threshold = temp_iqr * k\n",
    "temp_lower, temp_upper = temp_q1 - temp_threshold, temp_q3 + temp_threshold\n",
    "temp_outliers = [x for x in data['temp'] if x < temp_lower or x > temp_upper]\n",
    "print(\"Temp mean:\", temp_mean)\n",
    "print('IQR:', temp_iqr)\n",
    "print(\"Q1:\", temp_q1)\n",
    "print(\"Q2:\", median(data['temp']))\n",
    "print(\"Q3:\", temp_q3)\n",
    "print(\"Temp std:\", temp_std)\n",
    "print(\"Temp outliers\")\n",
    "print(temp_outliers)"
   ]
  },
  {
   "cell_type": "markdown",
   "metadata": {},
   "source": [
    "* **What k-value did you use to detect the outliers and why?**"
   ]
  },
  {
   "cell_type": "markdown",
   "metadata": {},
   "source": [
    "Although the standard k-value is 1.5, I played around with different values to see what the results were. 1.5 worked well for temperature as it has a low spread (standard deviation of 6.13). Area however has a highly skewed distribution with around half the values being 0 but some are really high so has a high spread (standard deviation of 317.37). Using k = 1.5 here identified any value about 20 and above to be an outlier so to remedy this I increased the k to 6 which then identified any value about 50 or up as an outlier. "
   ]
  },
  {
   "cell_type": "code",
   "execution_count": 209,
   "metadata": {},
   "outputs": [
    {
     "data": {
      "text/plain": [
       "<matplotlib.axes._subplots.AxesSubplot at 0x23a2c64f278>"
      ]
     },
     "execution_count": 209,
     "metadata": {},
     "output_type": "execute_result"
    },
    {
     "data": {
      "image/png": "[encoded data removed]",
      "text/plain": [
       "<Figure size 432x432 with 1 Axes>"
      ]
     },
     "metadata": {},
     "output_type": "display_data"
    }
   ],
   "source": [
    "# Some data exploration to study overall distributions\n",
    "\n",
    "data['area'].plot.hist()"
   ]
  },
  {
   "cell_type": "code",
   "execution_count": 210,
   "metadata": {},
   "outputs": [
    {
     "data": {
      "image/png": "[encoded data removed]",
      "text/plain": [
       "<Figure size 1440x288 with 1 Axes>"
      ]
     },
     "metadata": {},
     "output_type": "display_data"
    }
   ],
   "source": [
    "sns.set(rc = {'figure.figsize':(20,4)})\n",
    "boxplot = sns.boxplot(x = data[\"area\"])"
   ]
  },
  {
   "cell_type": "code",
   "execution_count": 211,
   "metadata": {},
   "outputs": [
    {
     "data": {
      "text/html": [
       "<div>\n",
       "<style scoped>\n",
       "    .dataframe tbody tr th:only-of-type {\n",
       "        vertical-align: middle;\n",
       "    }\n",
       "\n",
       "    .dataframe tbody tr th {\n",
       "        vertical-align: top;\n",
       "    }\n",
       "\n",
       "    .dataframe thead th {\n",
       "        text-align: right;\n",
       "    }\n",
       "</style>\n",
       "<table border=\"1\" class=\"dataframe\">\n",
       "  <thead>\n",
       "    <tr style=\"text-align: right;\">\n",
       "      <th></th>\n",
       "      <th>month</th>\n",
       "      <th>day</th>\n",
       "      <th>FFMC</th>\n",
       "      <th>DMC</th>\n",
       "      <th>DC</th>\n",
       "      <th>ISI</th>\n",
       "      <th>temp</th>\n",
       "      <th>RH</th>\n",
       "      <th>wind</th>\n",
       "      <th>rain</th>\n",
       "    </tr>\n",
       "    <tr>\n",
       "      <th>area</th>\n",
       "      <th></th>\n",
       "      <th></th>\n",
       "      <th></th>\n",
       "      <th></th>\n",
       "      <th></th>\n",
       "      <th></th>\n",
       "      <th></th>\n",
       "      <th></th>\n",
       "      <th></th>\n",
       "      <th></th>\n",
       "    </tr>\n",
       "  </thead>\n",
       "  <tbody>\n",
       "    <tr>\n",
       "      <th>0.00</th>\n",
       "      <td>238</td>\n",
       "      <td>238</td>\n",
       "      <td>238</td>\n",
       "      <td>238</td>\n",
       "      <td>238</td>\n",
       "      <td>238</td>\n",
       "      <td>238</td>\n",
       "      <td>238</td>\n",
       "      <td>238</td>\n",
       "      <td>238</td>\n",
       "    </tr>\n",
       "    <tr>\n",
       "      <th>0.09</th>\n",
       "      <td>1</td>\n",
       "      <td>1</td>\n",
       "      <td>1</td>\n",
       "      <td>1</td>\n",
       "      <td>1</td>\n",
       "      <td>1</td>\n",
       "      <td>1</td>\n",
       "      <td>1</td>\n",
       "      <td>1</td>\n",
       "      <td>1</td>\n",
       "    </tr>\n",
       "    <tr>\n",
       "      <th>0.17</th>\n",
       "      <td>1</td>\n",
       "      <td>1</td>\n",
       "      <td>1</td>\n",
       "      <td>1</td>\n",
       "      <td>1</td>\n",
       "      <td>1</td>\n",
       "      <td>1</td>\n",
       "      <td>1</td>\n",
       "      <td>1</td>\n",
       "      <td>1</td>\n",
       "    </tr>\n",
       "    <tr>\n",
       "      <th>0.21</th>\n",
       "      <td>1</td>\n",
       "      <td>1</td>\n",
       "      <td>1</td>\n",
       "      <td>1</td>\n",
       "      <td>1</td>\n",
       "      <td>1</td>\n",
       "      <td>1</td>\n",
       "      <td>1</td>\n",
       "      <td>1</td>\n",
       "      <td>1</td>\n",
       "    </tr>\n",
       "    <tr>\n",
       "      <th>0.24</th>\n",
       "      <td>1</td>\n",
       "      <td>1</td>\n",
       "      <td>1</td>\n",
       "      <td>1</td>\n",
       "      <td>1</td>\n",
       "      <td>1</td>\n",
       "      <td>1</td>\n",
       "      <td>1</td>\n",
       "      <td>1</td>\n",
       "      <td>1</td>\n",
       "    </tr>\n",
       "    <tr>\n",
       "      <th>...</th>\n",
       "      <td>...</td>\n",
       "      <td>...</td>\n",
       "      <td>...</td>\n",
       "      <td>...</td>\n",
       "      <td>...</td>\n",
       "      <td>...</td>\n",
       "      <td>...</td>\n",
       "      <td>...</td>\n",
       "      <td>...</td>\n",
       "      <td>...</td>\n",
       "    </tr>\n",
       "    <tr>\n",
       "      <th>1622.18</th>\n",
       "      <td>1</td>\n",
       "      <td>1</td>\n",
       "      <td>1</td>\n",
       "      <td>1</td>\n",
       "      <td>1</td>\n",
       "      <td>1</td>\n",
       "      <td>1</td>\n",
       "      <td>1</td>\n",
       "      <td>1</td>\n",
       "      <td>1</td>\n",
       "    </tr>\n",
       "    <tr>\n",
       "      <th>1786.45</th>\n",
       "      <td>1</td>\n",
       "      <td>1</td>\n",
       "      <td>1</td>\n",
       "      <td>1</td>\n",
       "      <td>1</td>\n",
       "      <td>1</td>\n",
       "      <td>1</td>\n",
       "      <td>1</td>\n",
       "      <td>1</td>\n",
       "      <td>1</td>\n",
       "    </tr>\n",
       "    <tr>\n",
       "      <th>2000.00</th>\n",
       "      <td>1</td>\n",
       "      <td>1</td>\n",
       "      <td>1</td>\n",
       "      <td>1</td>\n",
       "      <td>1</td>\n",
       "      <td>1</td>\n",
       "      <td>1</td>\n",
       "      <td>1</td>\n",
       "      <td>1</td>\n",
       "      <td>1</td>\n",
       "    </tr>\n",
       "    <tr>\n",
       "      <th>2137.00</th>\n",
       "      <td>1</td>\n",
       "      <td>1</td>\n",
       "      <td>1</td>\n",
       "      <td>1</td>\n",
       "      <td>1</td>\n",
       "      <td>1</td>\n",
       "      <td>1</td>\n",
       "      <td>1</td>\n",
       "      <td>1</td>\n",
       "      <td>1</td>\n",
       "    </tr>\n",
       "    <tr>\n",
       "      <th>4328.40</th>\n",
       "      <td>1</td>\n",
       "      <td>1</td>\n",
       "      <td>1</td>\n",
       "      <td>1</td>\n",
       "      <td>1</td>\n",
       "      <td>1</td>\n",
       "      <td>1</td>\n",
       "      <td>1</td>\n",
       "      <td>1</td>\n",
       "      <td>1</td>\n",
       "    </tr>\n",
       "  </tbody>\n",
       "</table>\n",
       "<p>261 rows × 10 columns</p>\n",
       "</div>"
      ],
      "text/plain": [
       "         month  day  FFMC  DMC   DC  ISI  temp   RH  wind  rain\n",
       "area                                                           \n",
       "0.00       238  238   238  238  238  238   238  238   238   238\n",
       "0.09         1    1     1    1    1    1     1    1     1     1\n",
       "0.17         1    1     1    1    1    1     1    1     1     1\n",
       "0.21         1    1     1    1    1    1     1    1     1     1\n",
       "0.24         1    1     1    1    1    1     1    1     1     1\n",
       "...        ...  ...   ...  ...  ...  ...   ...  ...   ...   ...\n",
       "1622.18      1    1     1    1    1    1     1    1     1     1\n",
       "1786.45      1    1     1    1    1    1     1    1     1     1\n",
       "2000.00      1    1     1    1    1    1     1    1     1     1\n",
       "2137.00      1    1     1    1    1    1     1    1     1     1\n",
       "4328.40      1    1     1    1    1    1     1    1     1     1\n",
       "\n",
       "[261 rows x 10 columns]"
      ]
     },
     "execution_count": 211,
     "metadata": {},
     "output_type": "execute_result"
    }
   ],
   "source": [
    "data.groupby('area').count()"
   ]
  },
  {
   "cell_type": "code",
   "execution_count": 212,
   "metadata": {},
   "outputs": [
    {
     "data": {
      "text/plain": [
       "<matplotlib.axes._subplots.AxesSubplot at 0x23a2d293a90>"
      ]
     },
     "execution_count": 212,
     "metadata": {},
     "output_type": "execute_result"
    },
    {
     "data": {
      "image/png": "[encoded data removed]",
      "text/plain": [
       "<Figure size 1440x288 with 1 Axes>"
      ]
     },
     "metadata": {},
     "output_type": "display_data"
    }
   ],
   "source": [
    "data['temp'].plot.hist()"
   ]
  },
  {
   "cell_type": "code",
   "execution_count": 213,
   "metadata": {},
   "outputs": [
    {
     "data": {
      "image/png": "[encoded data removed]",
      "text/plain": [
       "<Figure size 1080x288 with 1 Axes>"
      ]
     },
     "metadata": {},
     "output_type": "display_data"
    }
   ],
   "source": [
    "sns.set(rc = {'figure.figsize':(15,4)})\n",
    "boxplot = sns.boxplot(x = data[\"temp\"])"
   ]
  },
  {
   "cell_type": "markdown",
   "metadata": {},
   "source": [
    "* **Which parameter (IQR or standard deviation) is better outlier detection? Give reason.**"
   ]
  },
  {
   "cell_type": "markdown",
   "metadata": {},
   "source": [
    "To understand this, I studied the temp and area columns in more detail. The temperature column has a symmetric normal distribution so both outlier detection techniques worked well on it but since standard deviation method is design for normal distributions, I'd say that would be a better method. The area column on the otherhand had a highly skewed distribution with 238/517 of the values being 0. The standard deviation method gave more reasonable results for this so only really high values were removed. To achieve the similar results with IQR, I had to keep a high k-value. In short, our results showed standard deviation to be better but this generally depends on underlying distribution."
   ]
  },
  {
   "cell_type": "markdown",
   "metadata": {},
   "source": [
    "### **Outlier Detection using LOC (Local Outlier Factor)**"
   ]
  },
  {
   "cell_type": "markdown",
   "metadata": {},
   "source": [
    "LOF uses density-based outlier detection to identify local outliers. An anomaly score is assigned to each sample which measures the local deviation of density of a this sample with respect to its neighbors. "
   ]
  },
  {
   "cell_type": "code",
   "execution_count": 214,
   "metadata": {},
   "outputs": [],
   "source": [
    "#Removing month and day colums\n",
    "data = data.drop('month', axis = 1)\n",
    "data = data.drop('day', axis = 1)"
   ]
  },
  {
   "cell_type": "markdown",
   "metadata": {},
   "source": [
    "**1.** Tranform the features by scaling them to a \n",
    "given range(e.g. 0-1):"
   ]
  },
  {
   "cell_type": "code",
   "execution_count": 215,
   "metadata": {},
   "outputs": [],
   "source": [
    "from sklearn.preprocessing import MinMaxScaler\n",
    "#Write your code here for minmax scaling\n",
    "scaler = MinMaxScaler()\n",
    "scaler.fit(data)\n",
    "scaled = scaler.transform(data)"
   ]
  },
  {
   "cell_type": "markdown",
   "metadata": {},
   "source": [
    "**2.** Implement LOC algorithm using sklearn. Choose the parameters that will be passed into the function:"
   ]
  },
  {
   "cell_type": "code",
   "execution_count": 216,
   "metadata": {},
   "outputs": [
    {
     "name": "stdout",
     "output_type": "stream",
     "text": [
      "     FFMC    DMC      DC   ISI  temp   RH  wind  rain     area\n",
      "1    90.6   35.4   669.1   6.7  18.0   33   0.9   0.0     0.00\n",
      "3    91.7   33.3    77.5   9.0   8.3   97   0.4   0.2     0.00\n",
      "7    91.5  145.4   608.2  10.7   2.0   86   2.2   0.0     0.00\n",
      "12   63.5   70.8   665.3   0.1  17.0   72   6.7   0.0     0.00\n",
      "21   91.8   78.5  1724.3   9.2  19.1   38   2.7   0.0     0.00\n",
      "22   94.3   96.3   200.0  56.1  21.0   44   4.5   0.0     0.00\n",
      "50   92.9  137.0   706.4   9.2  20.8   17   1.3   0.0     0.00\n",
      "81   90.2   99.6   631.2   6.3  17.9   44   2.2   0.0  1314.00\n",
      "84   91.7  114.3   661.3   6.3  20.2   45   3.6   0.0   942.40\n",
      "85   92.9  137.0  2706.4   9.2  21.5   15   0.9   0.0     0.00\n",
      "91   91.7   35.8    80.8   7.8  17.4   24   5.4   0.0  4328.40\n",
      "97   69.0    2.4    15.5   0.7  17.4   24   5.4   0.0     0.00\n",
      "98   91.4  142.4  3601.4  10.6  11.6   87   4.5   0.0  1392.40\n",
      "102  94.8  108.3   647.1  17.0  20.1   40   4.0   0.0   779.50\n",
      "113  91.8   78.5  1724.3   9.2  18.9   35   2.7   0.0     0.00\n",
      "118  90.1   39.7    86.6   6.2  10.6   30   4.0   0.0  2000.00\n",
      "129  92.6   46.5   691.8   8.8  15.4   35   0.9   0.0  2137.00\n",
      "130  68.2   21.5    87.2   0.8  15.4   40   2.7   0.0     0.00\n",
      "142  90.1  108.0   529.8  12.5  21.2   51   8.9   0.0     0.61\n",
      "155  94.8  108.3   647.1  17.0  16.4   47   1.3   0.0     1.56\n",
      "197  92.9  137.0   706.4   9.2  21.5   15   0.9   0.0    11.06\n",
      "199  63.5   70.8   665.3   0.8  22.6   38   3.6   0.0    11.32\n",
      "218  92.9  133.3   699.6   9.2  19.4   19   1.3   0.0    31.72\n",
      "238  92.5  121.1    74.4   8.6  38.1   27   4.0   0.0  1090.84\n",
      "242  94.2  122.3  1589.9  12.9  15.4   66   4.0   0.0    10.13\n",
      "244  91.8  175.1   700.7  13.8  22.4   54   7.6   0.0     2.87\n",
      "249  93.1  157.3   666.7  13.5  21.7   40   0.4   0.0     2.47\n",
      "284  85.2    4.9    15.8   6.3   7.5   46   8.0   0.0  1224.24\n",
      "291  91.6  104.2   474.9   9.0  25.3   39   0.9   0.0     8.00\n",
      "293  93.1  180.4   430.8  11.0  26.9   28   5.4   0.0  1786.45\n",
      "299  53.4   71.0   233.8   0.4  10.6   90   2.7   0.0     0.00\n",
      "301  90.4   93.3   298.1   7.5  19.1   39   5.4   0.0  1463.52\n",
      "312  50.4   46.2   706.6   0.4  12.2   78   6.3   0.0     0.00\n",
      "323  90.7  136.9   822.8   6.8  12.9   39   2.7   0.0  1622.18\n",
      "337  91.6  108.4   764.0   6.2  23.0   34   2.2   0.0  1156.04\n",
      "365  91.9  111.7   770.3   6.5  19.6   45   3.1   0.0  1290.03\n",
      "372  92.0  203.2   664.5   8.1  10.4   75   0.9   0.0     0.00\n",
      "377  93.7  231.1  1715.1   8.4  21.9   42   2.2   0.0  1174.63\n",
      "379  18.7    1.1   171.4   0.0   5.2  100   0.9   0.0     0.00\n",
      "415  94.8  222.4  1698.6  13.9  30.5   27   4.9   0.0   746.28\n",
      "443  90.7   80.9   368.3  16.8  14.8   78   8.0   0.0     0.00\n",
      "451  90.5  196.8   649.9  16.3  11.8   88   4.9   0.0     9.71\n",
      "474  93.0  103.8   316.7  10.8  32.4   35   2.7   0.0    10.08\n",
      "475  93.7  121.7   350.2  18.0   2.7   40   9.4   0.0     3.19\n",
      "488  95.1  141.3   605.8  17.7   5.4   71   7.6   0.0    46.70\n",
      "499  96.1  181.1   671.2  14.3  27.3   63   4.9   6.4    10.82\n",
      "507  91.0  166.9   752.6   7.1  35.9   41   3.6   0.0     0.00\n",
      "509  91.0  166.9   752.6   7.1  31.1   71   7.6   1.4     2.17\n",
      "513  81.6   56.7   665.6   1.9  21.9   71   5.8   0.0    54.29\n",
      "514  81.6   56.7   665.6   1.9  21.2   70   6.7   0.0    11.16\n",
      "515  94.4  146.0   614.7  11.3   2.6   42   4.0   0.0     0.00\n",
      "516  79.5    3.0   106.7   1.1   3.8   31   4.5   0.0     0.00\n"
     ]
    },
    {
     "name": "stderr",
     "output_type": "stream",
     "text": [
      "C:\\Users\\Zohair\\Anaconda3\\lib\\site-packages\\sklearn\\neighbors\\lof.py:236: FutureWarning: default contamination parameter 0.1 will change in version 0.22 to \"auto\". This will change the predict method behavior.\n",
      "  FutureWarning)\n"
     ]
    }
   ],
   "source": [
    "#write your code here\n",
    "lof = LocalOutlierFactor(n_neighbors = 10)\n",
    "y_pred = lof.fit_predict(scaled)\n",
    "lof_outliers = data.iloc[y_pred == -1]\n",
    "print(lof_outliers)"
   ]
  },
  {
   "cell_type": "markdown",
   "metadata": {},
   "source": [
    "* **What value did you use for the 'n_neighbours'?**"
   ]
  },
  {
   "cell_type": "markdown",
   "metadata": {},
   "source": [
    "I used a value of 10. I played around with other values and even removed the n_neighbours parameter but results didn't change and the number of outliers were always 52."
   ]
  },
  {
   "cell_type": "markdown",
   "metadata": {},
   "source": [
    "**3.** Print the length of outliers returned."
   ]
  },
  {
   "cell_type": "code",
   "execution_count": 217,
   "metadata": {},
   "outputs": [
    {
     "name": "stdout",
     "output_type": "stream",
     "text": [
      "52\n"
     ]
    }
   ],
   "source": [
    "print(len(lof_outliers))"
   ]
  },
  {
   "cell_type": "markdown",
   "metadata": {},
   "source": [
    "### **Isolation Forest**"
   ]
  },
  {
   "cell_type": "markdown",
   "metadata": {},
   "source": [
    "Isolation Forest is an outlier detection algoritm that is based on the Decision Trees. It spearates the outliers by randomly selecting a certain attribute and then randomly selecting a split value between the max and min values of this feature."
   ]
  },
  {
   "cell_type": "markdown",
   "metadata": {},
   "source": [
    "**1.** Implement Isolation Forest algorithm using sklearn. Choose the parameters that will be passed into the function:"
   ]
  },
  {
   "cell_type": "code",
   "execution_count": 220,
   "metadata": {},
   "outputs": [
    {
     "name": "stdout",
     "output_type": "stream",
     "text": [
      "     FFMC    DMC      DC   ISI  temp   RH  wind  rain     area\n",
      "30   94.3   85.1   692.3  15.9  25.4   24   3.6   0.0     0.00\n",
      "40   79.5   60.6   366.7   1.5  23.3   37   3.1   0.0     0.00\n",
      "45   94.3   85.1   692.3  15.9  25.9   24   4.0   0.0     0.00\n",
      "81   90.2   99.6   631.2   6.3  17.9   44   2.2   0.0  1314.00\n",
      "91   91.7   35.8    80.8   7.8  17.4   24   5.4   0.0  4328.40\n",
      "97   69.0    2.4    15.5   0.7  17.4   24   5.4   0.0     0.00\n",
      "98   91.4  142.4  3601.4  10.6  11.6   87   4.5   0.0  1392.40\n",
      "106  91.4   30.7    74.3   7.5  18.2   29   3.1   0.0   866.00\n",
      "118  90.1   39.7    86.6   6.2  10.6   30   4.0   0.0  2000.00\n",
      "123  84.4   73.4   671.9   3.2  17.9   45   3.1   0.0  1609.40\n",
      "125  92.6   46.5   691.8   8.8  20.6   24   5.4   0.0     0.00\n",
      "129  92.6   46.5   691.8   8.8  15.4   35   0.9   0.0  2137.00\n",
      "196  81.5    9.1    55.2   2.7   5.8   54   5.8   0.0    10.93\n",
      "202  83.9    8.7    32.1   2.1   8.8   68   2.2   0.0    13.05\n",
      "211  93.5  139.4   594.2  20.3   5.1   96   5.8   0.0    26.00\n",
      "228  93.5  149.3   728.6   8.1  28.3   26   3.1   0.0    64.10\n",
      "230  92.9  133.3   699.6   9.2  26.4   21   4.5   0.0    88.49\n",
      "231  93.5  149.3   728.6   8.1  27.8   27   3.1   0.0    95.18\n",
      "233  84.4   73.4   671.9   3.2  24.3   36   3.1   0.0   105.66\n",
      "234  92.5  121.1   674.4   8.6  17.7   25   3.1   0.0   154.88\n",
      "238  92.5  121.1    74.4   8.6  38.1   27   4.0   0.0  1090.84\n",
      "241  83.0   23.3    85.3   2.3  16.7   20   3.1   0.0     0.00\n",
      "276  85.4   25.4   349.7   2.6   4.6   21   8.5   0.0    17.85\n",
      "277  85.4   25.4   349.7   2.6   4.6   21   8.5   0.0    10.73\n",
      "278  85.4   25.4   349.7   2.6   4.6   21   8.5   0.0    22.03\n",
      "281  85.4   25.4   349.7   2.6   5.1   24   8.5   0.0    24.77\n",
      "284  85.2    4.9    15.8   6.3   7.5   46   8.0   0.0  1224.24\n",
      "293  93.1  180.4   430.8  11.0  26.9   28   5.4   0.0  1786.45\n",
      "299  53.4   71.0   233.8   0.4  10.6   90   2.7   0.0     0.00\n",
      "301  90.4   93.3   298.1   7.5  19.1   39   5.4   0.0  1463.52\n",
      "307  89.6   84.1   714.3   5.7  23.8   35   3.6   0.0  1545.18\n",
      "323  90.7  136.9   822.8   6.8  12.9   39   2.7   0.0  1622.18\n",
      "369  91.0  276.3   825.1   7.1  13.8   77   7.6   0.0     0.00\n",
      "370  91.0  276.3   825.1   7.1  13.8   77   7.6   0.0    11.06\n",
      "374  90.3  290.0   855.3   7.4  10.3   78   4.0   0.0    18.30\n",
      "377  93.7  231.1  1715.1   8.4  21.9   42   2.2   0.0  1174.63\n",
      "379  18.7    1.1   171.4   0.0   5.2  100   0.9   0.0     0.00\n",
      "395  85.0    9.0    56.9   3.5  10.1   62   1.8   0.0    51.78\n",
      "415  94.8  222.4  1698.6  13.9  30.5   27   4.9   0.0   746.28\n",
      "421  95.2  217.7   690.0  18.0  30.8   19   4.5   0.0     0.00\n",
      "448  89.7  284.9   844.0  10.1  10.5   77   4.0   0.0     0.00\n",
      "462  91.0  276.3   825.1   7.1  14.5   76   7.6   0.0     3.71\n",
      "463  75.1    4.4    16.2   1.9   4.6   82   6.3   0.0     5.39\n",
      "464  75.1    4.4    16.2   1.9   5.1   77   5.4   0.0     2.14\n",
      "465  79.5    3.6    15.3   1.8   4.6   59   0.9   0.0     6.84\n",
      "473  90.5   61.1   252.6   9.4  24.5   50   3.1   0.0    70.32\n",
      "484  94.9  130.3   587.1  14.1  33.1   25   4.0   0.0    26.43\n",
      "497  96.1  181.1   671.2  14.3  37.3   27   2.2   0.0    14.68\n",
      "498  96.1  181.1   671.2  14.3  33.3   26   2.7   0.0    40.54\n",
      "513  81.6   56.7   665.6   1.9  21.9   71   5.8   0.0    54.29\n",
      "514  81.6   56.7   665.6   1.9  21.2   70   6.7   0.0    11.16\n",
      "516  79.5    3.0   106.7   1.1   3.8   31   4.5   0.0     0.00\n"
     ]
    },
    {
     "name": "stderr",
     "output_type": "stream",
     "text": [
      "C:\\Users\\Zohair\\Anaconda3\\lib\\site-packages\\sklearn\\ensemble\\iforest.py:237: FutureWarning: default contamination parameter 0.1 will change in version 0.22 to \"auto\". This will change the predict method behavior.\n",
      "  FutureWarning)\n",
      "C:\\Users\\Zohair\\Anaconda3\\lib\\site-packages\\sklearn\\ensemble\\iforest.py:247: FutureWarning: behaviour=\"old\" is deprecated and will be removed in version 0.22. Please use behaviour=\"new\", which makes the decision_function change to match other anomaly detection algorithm API.\n",
      "  FutureWarning)\n",
      "C:\\Users\\Zohair\\Anaconda3\\lib\\site-packages\\sklearn\\ensemble\\iforest.py:415: DeprecationWarning: threshold_ attribute is deprecated in 0.20 and will be removed in 0.22.\n",
      "  \" be removed in 0.22.\", DeprecationWarning)\n"
     ]
    }
   ],
   "source": [
    "#Write your code here\n",
    "from sklearn.ensemble import IsolationForest\n",
    "iso_f = IsolationForest(n_estimators = 10, max_samples = 25)\n",
    "iso_f.fit(data)\n",
    "y_pred = iso_f.predict(data)\n",
    "iso_f_outliers = data.iloc[y_pred==-1]\n",
    "print(iso_f_outliers)"
   ]
  },
  {
   "cell_type": "markdown",
   "metadata": {},
   "source": [
    "* **What value did you use for the 'max_samples'?**"
   ]
  },
  {
   "cell_type": "markdown",
   "metadata": {},
   "source": [
    "I chose max samples to be 25 as that seemed a reasonable number for a dataframe with 517 rows"
   ]
  },
  {
   "cell_type": "markdown",
   "metadata": {},
   "source": [
    "**2.** Print the length of outliers returned."
   ]
  },
  {
   "cell_type": "code",
   "execution_count": 221,
   "metadata": {},
   "outputs": [
    {
     "name": "stdout",
     "output_type": "stream",
     "text": [
      "52\n"
     ]
    }
   ],
   "source": [
    "print(len(iso_f_outliers))"
   ]
  },
  {
   "cell_type": "markdown",
   "metadata": {},
   "source": [
    "* **Compare the results from both LOC and Isolation Forest:** "
   ]
  },
  {
   "cell_type": "markdown",
   "metadata": {},
   "source": [
    "Both techniques returned the same number of outliers (52) for reasonable parameters, although visually these outliers seem to be different when results were printed"
   ]
  }
 ],
 "metadata": {
  "kernelspec": {
   "display_name": "Python 3",
   "language": "python",
   "name": "python3"
  },
  "language_info": {
   "codemirror_mode": {
    "name": "ipython",
    "version": 3
   },
   "file_extension": ".py",
   "mimetype": "text/x-python",
   "name": "python",
   "nbconvert_exporter": "python",
   "pygments_lexer": "ipython3",
   "version": "3.7.1"
  }
 },
 "nbformat": 4,
 "nbformat_minor": 2
}
